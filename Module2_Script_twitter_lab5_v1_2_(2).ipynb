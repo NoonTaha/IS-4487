{
  "nbformat": 4,
  "nbformat_minor": 0,
  "metadata": {
    "colab": {
      "provenance": []
    },
    "kernelspec": {
      "name": "python3",
      "display_name": "Python 3"
    },
    "language_info": {
      "name": "python"
    }
  },
  "cells": [
    {
      "cell_type": "markdown",
      "metadata": {
        "id": "p_Yu45OYdj3Y"
      },
      "source": [
        "# IS 4487 Module 2 Script\n",
        "\n",
        "## Agenda\n",
        "\n",
        "- Loading installed packages\n",
        "- Inspect data\n",
        "- Explore plot types \n",
        "\n",
        "Make sure you have downloaded tonight's script and data from Canvas."
      ]
    },
    {
      "cell_type": "markdown",
      "metadata": {
        "id": "UE93RwXhgiJS"
      },
      "source": [
        "##Load Libraries\n",
        "\n",
        "In this class we will be using \n",
        "- Pandas\n",
        "- Scikitlearn\n",
        "- Matplotlib\n",
        "\n",
        "We can pull sample data from \n",
        "- statsmodels.api"
      ]
    },
    {
      "cell_type": "code",
      "metadata": {
        "id": "JYRZY5n0gfNe"
      },
      "source": [
        "import pandas as pd\n",
        "import matplotlib as mpl\n",
        "import sklearn as sl"
      ],
      "execution_count": 14,
      "outputs": []
    },
    {
      "cell_type": "markdown",
      "metadata": {
        "id": "bREaXo8jfu-O"
      },
      "source": [
        "## Getting data into Pandas\n",
        "\n",
        "In this case we will load data from the statsmodels.org library\n",
        "\n",
        "See the Canvas assignments and lectures for a description of the Megatelco data\n",
        "\n",
        "**Note:** you will need to enter a code supplied by Google in the next step. \n"
      ]
    },
    {
      "cell_type": "code",
      "metadata": {
        "id": "6_FwprxVgR0e",
        "colab": {
          "base_uri": "https://localhost:8080/",
          "height": 1000
        },
        "outputId": "d01c0e35-a290-464c-badb-4165b4089074"
      },
      "source": [
        "from google.colab import drive \n",
        "drive.mount('/content/gdrive', force_remount=True)\n",
        "\n",
        "df = pd.read_csv (r'/content/Twitter_dataset 3.csv', encoding = 'latin1')\n",
        "\n",
        "print (df)\n",
        "df =_clean_columns = df[['created_at','id_str', 'user','source','retweet_count','favorite_count','extended_tweet']].head(10)\n",
        "import matplotlib.pyplot as plt\n",
        "import numpy as np\n",
        "\n",
        "# Use numpy to generate a bunch of random data in a bell curve around 5.\n",
        "n = 5 + np.random.randn(1000)\n",
        "\n",
        "m = [m for m in range(len(n))]\n",
        "plt.bar(m, n)\n",
        "plt.title(\"Raw Data\")\n",
        "plt.show()\n",
        "\n",
        "plt.hist(n, bins=10)\n",
        "plt.title(\"Histogram\")\n",
        "plt.show()\n",
        "\n",
        "plt.hist(n, cumulative=True, bins=10)\n",
        "plt.title(\"Cumulative Histogram\")\n",
        "plt.show()\n",
        "\n"
      ],
      "execution_count": 18,
      "outputs": [
        {
          "output_type": "stream",
          "name": "stdout",
          "text": [
            "Mounted at /content/gdrive\n",
            "      Unnamed: 0                       _id                      created_at  \\\n",
            "0              0  6020fc7e9e1aa8e3e7ad0832  Mon Feb 08 04:29:58 +0000 2021   \n",
            "1              1  6020fc7e9e1aa8e3e7ad0833  Mon Feb 08 04:29:55 +0000 2021   \n",
            "2              2  6020fc7e9e1aa8e3e7ad0834  Mon Feb 08 04:29:48 +0000 2021   \n",
            "3              3  6020fc7e9e1aa8e3e7ad0835  Mon Feb 08 04:29:43 +0000 2021   \n",
            "4              4  6020fc7e9e1aa8e3e7ad0836  Mon Feb 08 04:29:42 +0000 2021   \n",
            "...          ...                       ...                             ...   \n",
            "9751           3  6020fbb89e1aa8e3e7ac0a78  Mon Feb 08 02:01:58 +0000 2021   \n",
            "9752           4  6020fbb89e1aa8e3e7ac0a79  Mon Feb 08 01:00:24 +0000 2021   \n",
            "9753           5  6020fbb89e1aa8e3e7ac0a7a  Sun Feb 07 23:44:20 +0000 2021   \n",
            "9754           6  6020fbb89e1aa8e3e7ac0a7b  Sun Feb 07 23:33:40 +0000 2021   \n",
            "9755           7  6020fbb89e1aa8e3e7ac0a7c  Sun Feb 07 23:32:32 +0000 2021   \n",
            "\n",
            "                id               id_str  \\\n",
            "0     1.358630e+18  1358634152719839233   \n",
            "1     1.358630e+18  1358634138639605762   \n",
            "2     1.358630e+18  1358634110600826880   \n",
            "3     1.358630e+18  1358634090350583809   \n",
            "4     1.358630e+18  1358634084537352192   \n",
            "...            ...                  ...   \n",
            "9751  1.358600e+18  1358596905886863363   \n",
            "9752  1.358580e+18  1358581411008102402   \n",
            "9753  1.358560e+18  1358562270763122689   \n",
            "9754  1.358560e+18  1358559585804693513   \n",
            "9755  1.358560e+18  1358559299946106883   \n",
            "\n",
            "                                                   text display_text_range  \\\n",
            "0         @Rebe_Charizard ?????????????????????m(*_ _)m           [16, 45]   \n",
            "1     RT @iiiRatcha: ????????????????????\"??????????...                NaN   \n",
            "2     @kashDAI not you listening to cfm and m&amp;m ...           [9, 140]   \n",
            "3     RT @_soniashenoy: M&amp;M says \\nSsangyong dea...                NaN   \n",
            "4     RT @mmschocolate: This year?s #SuperBowlLV com...                NaN   \n",
            "...                                                 ...                ...   \n",
            "9751  A 5-second ad that felt like a subliminal mess...           [0, 140]   \n",
            "9752  RT @anygabrielly: Si quieres yo me quedo pa ot...                NaN   \n",
            "9753  I wonder if these Super Bowl messages of unity...                NaN   \n",
            "9754  RT @DrunkUncTony: Joe Biden's america #Unity #...                NaN   \n",
            "9755  This should be our National Anthem for 2021!\\n...           [0, 140]   \n",
            "\n",
            "                                                 source  truncated  \\\n",
            "0     <a href=\"http://twitter.com/download/iphone\" r...      False   \n",
            "1     <a href=\"http://twitter.com/download/iphone\" r...      False   \n",
            "2     <a href=\"http://twitter.com/download/iphone\" r...       True   \n",
            "3     <a href=\"https://mobile.twitter.com\" rel=\"nofo...      False   \n",
            "4     <a href=\"http://twitter.com/download/iphone\" r...      False   \n",
            "...                                                 ...        ...   \n",
            "9751  <a href=\"http://twitter.com/download/android\" ...       True   \n",
            "9752  <a href=\"http://twitter.com/download/iphone\" r...      False   \n",
            "9753  <a href=\"http://twitter.com/download/android\" ...      False   \n",
            "9754  <a href=\"http://tapbots.com/tweetbot\" rel=\"nof...      False   \n",
            "9755  <a href=\"https://mobile.twitter.com\" rel=\"nofo...       True   \n",
            "\n",
            "      in_reply_to_status_id  ...   matching_rules  \\\n",
            "0              1.358630e+18  ...  [{'tag': None}]   \n",
            "1                       NaN  ...  [{'tag': None}]   \n",
            "2              1.358630e+18  ...  [{'tag': None}]   \n",
            "3                       NaN  ...  [{'tag': None}]   \n",
            "4                       NaN  ...  [{'tag': None}]   \n",
            "...                     ...  ...              ...   \n",
            "9751                    NaN  ...  [{'tag': None}]   \n",
            "9752                    NaN  ...  [{'tag': None}]   \n",
            "9753                    NaN  ...  [{'tag': None}]   \n",
            "9754                    NaN  ...  [{'tag': None}]   \n",
            "9755                    NaN  ...  [{'tag': None}]   \n",
            "\n",
            "                                       retweeted_status  \\\n",
            "0                                                   NaN   \n",
            "1     {'created_at': 'Sun Feb 07 15:23:25 +0000 2021...   \n",
            "2                                                   NaN   \n",
            "3     {'created_at': 'Fri Feb 05 08:32:11 +0000 2021...   \n",
            "4     {'created_at': 'Wed Feb 03 15:06:02 +0000 2021...   \n",
            "...                                                 ...   \n",
            "9751                                                NaN   \n",
            "9752  {'created_at': 'Wed Jul 22 21:17:48 +0000 2020...   \n",
            "9753                                                NaN   \n",
            "9754  {'created_at': 'Sun Feb 07 23:28:35 +0000 2021...   \n",
            "9755                                                NaN   \n",
            "\n",
            "                                         extended_tweet extended_entities  \\\n",
            "0                                                   NaN               NaN   \n",
            "1                                                   NaN               NaN   \n",
            "2     {'full_text': '@kashDAI not you listening to c...               NaN   \n",
            "3                                                   NaN               NaN   \n",
            "4                                                   NaN               NaN   \n",
            "...                                                 ...               ...   \n",
            "9751  {'full_text': 'A 5-second ad that felt like a ...               NaN   \n",
            "9752                                                NaN               NaN   \n",
            "9753                                                NaN               NaN   \n",
            "9754                                                NaN               NaN   \n",
            "9755  {'full_text': 'This should be our National Ant...               NaN   \n",
            "\n",
            "     possibly_sensitive quoted_status_id quoted_status_id_str  \\\n",
            "0                   NaN              NaN                  NaN   \n",
            "1                   NaN              NaN                  NaN   \n",
            "2                   NaN              NaN                  NaN   \n",
            "3                   NaN              NaN                  NaN   \n",
            "4                   NaN              NaN                  NaN   \n",
            "...                 ...              ...                  ...   \n",
            "9751              False              NaN                  NaN   \n",
            "9752                NaN              NaN                  NaN   \n",
            "9753                NaN              NaN                  NaN   \n",
            "9754               True     1.358560e+18         1.358558e+18   \n",
            "9755              False              NaN                  NaN   \n",
            "\n",
            "                                          quoted_status  \\\n",
            "0                                                   NaN   \n",
            "1                                                   NaN   \n",
            "2                                                   NaN   \n",
            "3                                                   NaN   \n",
            "4                                                   NaN   \n",
            "...                                                 ...   \n",
            "9751                                                NaN   \n",
            "9752                                                NaN   \n",
            "9753                                                NaN   \n",
            "9754  {'created_at': 'Sun Feb 07 23:26:46 +0000 2021...   \n",
            "9755                                                NaN   \n",
            "\n",
            "                                quoted_status_permalink  scopes  \n",
            "0                                                   NaN     NaN  \n",
            "1                                                   NaN     NaN  \n",
            "2                                                   NaN     NaN  \n",
            "3                                                   NaN     NaN  \n",
            "4                                                   NaN     NaN  \n",
            "...                                                 ...     ...  \n",
            "9751                                                NaN     NaN  \n",
            "9752                                                NaN     NaN  \n",
            "9753                                                NaN     NaN  \n",
            "9754  {'url': 'https://t.co/St6rKn438s', 'expanded':...     NaN  \n",
            "9755                                                NaN     NaN  \n",
            "\n",
            "[9756 rows x 39 columns]\n"
          ]
        },
        {
          "output_type": "display_data",
          "data": {
            "text/plain": [
              "<Figure size 432x288 with 1 Axes>"
            ],
            "image/png": "[encoded data removed]"
          },
          "metadata": {
            "needs_background": "light"
          }
        },
        {
          "output_type": "display_data",
          "data": {
            "text/plain": [
              "<Figure size 432x288 with 1 Axes>"
            ],
            "image/png": "[encoded data removed]"
          },
          "metadata": {
            "needs_background": "light"
          }
        },
        {
          "output_type": "display_data",
          "data": {
            "text/plain": [
              "<Figure size 432x288 with 1 Axes>"
            ],
            "image/png": "[encoded data removed]"
          },
          "metadata": {
            "needs_background": "light"
          }
        }
      ]
    },
    {
      "cell_type": "code",
      "metadata": {
        "id": "gSvao0dlhlNn",
        "colab": {
          "base_uri": "https://localhost:8080/",
          "height": 774
        },
        "outputId": "68c9b33f-8ab8-473c-d60f-924204263cf9"
      },
      "source": [
        "#look at the top rows\n",
        "df.head(10) "
      ],
      "execution_count": 16,
      "outputs": [
        {
          "output_type": "execute_result",
          "data": {
            "text/plain": [
              "                       created_at               id_str  \\\n",
              "0  Mon Feb 08 04:29:58 +0000 2021  1358634152719839233   \n",
              "1  Mon Feb 08 04:29:55 +0000 2021  1358634138639605762   \n",
              "2  Mon Feb 08 04:29:48 +0000 2021  1358634110600826880   \n",
              "3  Mon Feb 08 04:29:43 +0000 2021  1358634090350583809   \n",
              "4  Mon Feb 08 04:29:42 +0000 2021  1358634084537352192   \n",
              "5  Mon Feb 08 04:29:40 +0000 2021  1358634077046272000   \n",
              "6  Mon Feb 08 04:29:40 +0000 2021  1358634076194959362   \n",
              "7  Mon Feb 08 04:29:37 +0000 2021  1358634061758046210   \n",
              "8  Mon Feb 08 04:29:36 +0000 2021  1358634060369829888   \n",
              "9  Mon Feb 08 04:29:35 +0000 2021  1358634054694825985   \n",
              "\n",
              "                                                user  \\\n",
              "0  {'id': 1203783723633692677, 'id_str': '1203783...   \n",
              "1  {'id': 862647823, 'id_str': '862647823', 'name...   \n",
              "2  {'id': 1034197390780190720, 'id_str': '1034197...   \n",
              "3  {'id': 607680568, 'id_str': '607680568', 'name...   \n",
              "4  {'id': 80744833, 'id_str': '80744833', 'name':...   \n",
              "5  {'id': 2841982867, 'id_str': '2841982867', 'na...   \n",
              "6  {'id': 1350919781491339264, 'id_str': '1350919...   \n",
              "7  {'id': 1283776534348591107, 'id_str': '1283776...   \n",
              "8  {'id': 260492158, 'id_str': '260492158', 'name...   \n",
              "9  {'id': 2371561038, 'id_str': '2371561038', 'na...   \n",
              "\n",
              "                                              source  retweet_count  \\\n",
              "0  <a href=\"http://twitter.com/download/iphone\" r...              0   \n",
              "1  <a href=\"http://twitter.com/download/iphone\" r...              0   \n",
              "2  <a href=\"http://twitter.com/download/iphone\" r...              0   \n",
              "3  <a href=\"https://mobile.twitter.com\" rel=\"nofo...              0   \n",
              "4  <a href=\"http://twitter.com/download/iphone\" r...              0   \n",
              "5  <a href=\"http://twitter.com/download/android\" ...              0   \n",
              "6  <a href=\"http://twitter.com/download/iphone\" r...              0   \n",
              "7  <a href=\"http://twitter.com/download/android\" ...              0   \n",
              "8  <a href=\"http://twitter.com/download/iphone\" r...              0   \n",
              "9  <a href=\"http://twitter.com/download/iphone\" r...              0   \n",
              "\n",
              "   favorite_count                                     extended_tweet  \n",
              "0               1                                                NaN  \n",
              "1               0                                                NaN  \n",
              "2               0  {'full_text': '@kashDAI not you listening to c...  \n",
              "3               0                                                NaN  \n",
              "4               0                                                NaN  \n",
              "5               0                                                NaN  \n",
              "6               0                                                NaN  \n",
              "7               1                                                NaN  \n",
              "8               0  {'full_text': 'La neta nunca le he entendido a...  \n",
              "9               0                                                NaN  "
            ],
            "text/html": [
              "\n",
              "  <div id=\"df-2776f37e-267d-4fce-b9af-2548bfee9dc1\">\n",
              "    <div class=\"colab-df-container\">\n",
              "      <div>\n",
              "<style scoped>\n",
              "    .dataframe tbody tr th:only-of-type {\n",
              "        vertical-align: middle;\n",
              "    }\n",
              "\n",
              "    .dataframe tbody tr th {\n",
              "        vertical-align: top;\n",
              "    }\n",
              "\n",
              "    .dataframe thead th {\n",
              "        text-align: right;\n",
              "    }\n",
              "</style>\n",
              "<table border=\"1\" class=\"dataframe\">\n",
              "  <thead>\n",
              "    <tr style=\"text-align: right;\">\n",
              "      <th></th>\n",
              "      <th>created_at</th>\n",
              "      <th>id_str</th>\n",
              "      <th>user</th>\n",
              "      <th>source</th>\n",
              "      <th>retweet_count</th>\n",
              "      <th>favorite_count</th>\n",
              "      <th>extended_tweet</th>\n",
              "    </tr>\n",
              "  </thead>\n",
              "  <tbody>\n",
              "    <tr>\n",
              "      <th>0</th>\n",
              "      <td>Mon Feb 08 04:29:58 +0000 2021</td>\n",
              "      <td>1358634152719839233</td>\n",
              "      <td>{'id': 1203783723633692677, 'id_str': '1203783...</td>\n",
              "      <td>&lt;a href=\"http://twitter.com/download/iphone\" r...</td>\n",
              "      <td>0</td>\n",
              "      <td>1</td>\n",
              "      <td>NaN</td>\n",
              "    </tr>\n",
              "    <tr>\n",
              "      <th>1</th>\n",
              "      <td>Mon Feb 08 04:29:55 +0000 2021</td>\n",
              "      <td>1358634138639605762</td>\n",
              "      <td>{'id': 862647823, 'id_str': '862647823', 'name...</td>\n",
              "      <td>&lt;a href=\"http://twitter.com/download/iphone\" r...</td>\n",
              "      <td>0</td>\n",
              "      <td>0</td>\n",
              "      <td>NaN</td>\n",
              "    </tr>\n",
              "    <tr>\n",
              "      <th>2</th>\n",
              "      <td>Mon Feb 08 04:29:48 +0000 2021</td>\n",
              "      <td>1358634110600826880</td>\n",
              "      <td>{'id': 1034197390780190720, 'id_str': '1034197...</td>\n",
              "      <td>&lt;a href=\"http://twitter.com/download/iphone\" r...</td>\n",
              "      <td>0</td>\n",
              "      <td>0</td>\n",
              "      <td>{'full_text': '@kashDAI not you listening to c...</td>\n",
              "    </tr>\n",
              "    <tr>\n",
              "      <th>3</th>\n",
              "      <td>Mon Feb 08 04:29:43 +0000 2021</td>\n",
              "      <td>1358634090350583809</td>\n",
              "      <td>{'id': 607680568, 'id_str': '607680568', 'name...</td>\n",
              "      <td>&lt;a href=\"https://mobile.twitter.com\" rel=\"nofo...</td>\n",
              "      <td>0</td>\n",
              "      <td>0</td>\n",
              "      <td>NaN</td>\n",
              "    </tr>\n",
              "    <tr>\n",
              "      <th>4</th>\n",
              "      <td>Mon Feb 08 04:29:42 +0000 2021</td>\n",
              "      <td>1358634084537352192</td>\n",
              "      <td>{'id': 80744833, 'id_str': '80744833', 'name':...</td>\n",
              "      <td>&lt;a href=\"http://twitter.com/download/iphone\" r...</td>\n",
              "      <td>0</td>\n",
              "      <td>0</td>\n",
              "      <td>NaN</td>\n",
              "    </tr>\n",
              "    <tr>\n",
              "      <th>5</th>\n",
              "      <td>Mon Feb 08 04:29:40 +0000 2021</td>\n",
              "      <td>1358634077046272000</td>\n",
              "      <td>{'id': 2841982867, 'id_str': '2841982867', 'na...</td>\n",
              "      <td>&lt;a href=\"http://twitter.com/download/android\" ...</td>\n",
              "      <td>0</td>\n",
              "      <td>0</td>\n",
              "      <td>NaN</td>\n",
              "    </tr>\n",
              "    <tr>\n",
              "      <th>6</th>\n",
              "      <td>Mon Feb 08 04:29:40 +0000 2021</td>\n",
              "      <td>1358634076194959362</td>\n",
              "      <td>{'id': 1350919781491339264, 'id_str': '1350919...</td>\n",
              "      <td>&lt;a href=\"http://twitter.com/download/iphone\" r...</td>\n",
              "      <td>0</td>\n",
              "      <td>0</td>\n",
              "      <td>NaN</td>\n",
              "    </tr>\n",
              "    <tr>\n",
              "      <th>7</th>\n",
              "      <td>Mon Feb 08 04:29:37 +0000 2021</td>\n",
              "      <td>1358634061758046210</td>\n",
              "      <td>{'id': 1283776534348591107, 'id_str': '1283776...</td>\n",
              "      <td>&lt;a href=\"http://twitter.com/download/android\" ...</td>\n",
              "      <td>0</td>\n",
              "      <td>1</td>\n",
              "      <td>NaN</td>\n",
              "    </tr>\n",
              "    <tr>\n",
              "      <th>8</th>\n",
              "      <td>Mon Feb 08 04:29:36 +0000 2021</td>\n",
              "      <td>1358634060369829888</td>\n",
              "      <td>{'id': 260492158, 'id_str': '260492158', 'name...</td>\n",
              "      <td>&lt;a href=\"http://twitter.com/download/iphone\" r...</td>\n",
              "      <td>0</td>\n",
              "      <td>0</td>\n",
              "      <td>{'full_text': 'La neta nunca le he entendido a...</td>\n",
              "    </tr>\n",
              "    <tr>\n",
              "      <th>9</th>\n",
              "      <td>Mon Feb 08 04:29:35 +0000 2021</td>\n",
              "      <td>1358634054694825985</td>\n",
              "      <td>{'id': 2371561038, 'id_str': '2371561038', 'na...</td>\n",
              "      <td>&lt;a href=\"http://twitter.com/download/iphone\" r...</td>\n",
              "      <td>0</td>\n",
              "      <td>0</td>\n",
              "      <td>NaN</td>\n",
              "    </tr>\n",
              "  </tbody>\n",
              "</table>\n",
              "</div>\n",
              "      <button class=\"colab-df-convert\" onclick=\"convertToInteractive('df-2776f37e-267d-4fce-b9af-2548bfee9dc1')\"\n",
              "              title=\"Convert this dataframe to an interactive table.\"\n",
              "              style=\"display:none;\">\n",
              "        \n",
              "  <svg xmlns=\"http://www.w3.org/2000/svg\" height=\"24px\"viewBox=\"0 0 24 24\"\n",
              "       width=\"24px\">\n",
              "    <path d=\"M0 0h24v24H0V0z\" fill=\"none\"/>\n",
              "    <path d=\"M18.56 5.44l.94 2.06.94-2.06 2.06-.94-2.06-.94-.94-2.06-.94 2.06-2.06.94zm-11 1L8.5 8.5l.94-2.06 2.06-.94-2.06-.94L8.5 2.5l-.94 2.06-2.06.94zm10 10l.94 2.06.94-2.06 2.06-.94-2.06-.94-.94-2.06-.94 2.06-2.06.94z\"/><path d=\"M17.41 7.96l-1.37-1.37c-.4-.4-.92-.59-1.43-.59-.52 0-1.04.2-1.43.59L10.3 9.45l-7.72 7.72c-.78.78-.78 2.05 0 2.83L4 21.41c.39.39.9.59 1.41.59.51 0 1.02-.2 1.41-.59l7.78-7.78 2.81-2.81c.8-.78.8-2.07 0-2.86zM5.41 20L4 18.59l7.72-7.72 1.47 1.35L5.41 20z\"/>\n",
              "  </svg>\n",
              "      </button>\n",
              "      \n",
              "  <style>\n",
              "    .colab-df-container {\n",
              "      display:flex;\n",
              "      flex-wrap:wrap;\n",
              "      gap: 12px;\n",
              "    }\n",
              "\n",
              "    .colab-df-convert {\n",
              "      background-color: #E8F0FE;\n",
              "      border: none;\n",
              "      border-radius: 50%;\n",
              "      cursor: pointer;\n",
              "      display: none;\n",
              "      fill: #1967D2;\n",
              "      height: 32px;\n",
              "      padding: 0 0 0 0;\n",
              "      width: 32px;\n",
              "    }\n",
              "\n",
              "    .colab-df-convert:hover {\n",
              "      background-color: #E2EBFA;\n",
              "      box-shadow: 0px 1px 2px rgba(60, 64, 67, 0.3), 0px 1px 3px 1px rgba(60, 64, 67, 0.15);\n",
              "      fill: #174EA6;\n",
              "    }\n",
              "\n",
              "    [theme=dark] .colab-df-convert {\n",
              "      background-color: #3B4455;\n",
              "      fill: #D2E3FC;\n",
              "    }\n",
              "\n",
              "    [theme=dark] .colab-df-convert:hover {\n",
              "      background-color: #434B5C;\n",
              "      box-shadow: 0px 1px 3px 1px rgba(0, 0, 0, 0.15);\n",
              "      filter: drop-shadow(0px 1px 2px rgba(0, 0, 0, 0.3));\n",
              "      fill: #FFFFFF;\n",
              "    }\n",
              "  </style>\n",
              "\n",
              "      <script>\n",
              "        const buttonEl =\n",
              "          document.querySelector('#df-2776f37e-267d-4fce-b9af-2548bfee9dc1 button.colab-df-convert');\n",
              "        buttonEl.style.display =\n",
              "          google.colab.kernel.accessAllowed ? 'block' : 'none';\n",
              "\n",
              "        async function convertToInteractive(key) {\n",
              "          const element = document.querySelector('#df-2776f37e-267d-4fce-b9af-2548bfee9dc1');\n",
              "          const dataTable =\n",
              "            await google.colab.kernel.invokeFunction('convertToInteractive',\n",
              "                                                     [key], {});\n",
              "          if (!dataTable) return;\n",
              "\n",
              "          const docLinkHtml = 'Like what you see? Visit the ' +\n",
              "            '<a target=\"_blank\" href=https://colab.research.google.com/notebooks/data_table.ipynb>data table notebook</a>'\n",
              "            + ' to learn more about interactive tables.';\n",
              "          element.innerHTML = '';\n",
              "          dataTable['output_type'] = 'display_data';\n",
              "          await google.colab.output.renderOutput(dataTable, element);\n",
              "          const docLink = document.createElement('div');\n",
              "          docLink.innerHTML = docLinkHtml;\n",
              "          element.appendChild(docLink);\n",
              "        }\n",
              "      </script>\n",
              "    </div>\n",
              "  </div>\n",
              "  "
            ]
          },
          "metadata": {},
          "execution_count": 16
        }
      ]
    },
    {
      "cell_type": "code",
      "metadata": {
        "id": "Mk01Ip_Ehk5c"
      },
      "source": [
        "#look at last rows\n",
        "df.tail(10) "
      ],
      "execution_count": null,
      "outputs": []
    },
    {
      "cell_type": "code",
      "metadata": {
        "id": "7Hxb10xChiAf"
      },
      "source": [
        "#get a summary of the dataset\n",
        "df.describe()"
      ],
      "execution_count": null,
      "outputs": []
    },
    {
      "cell_type": "code",
      "metadata": {
        "id": "AK7y336xJ3-6"
      },
      "source": [
        "#look at the datatypes\n",
        "df.info()"
      ],
      "execution_count": null,
      "outputs": []
    },
    {
      "cell_type": "markdown",
      "metadata": {
        "id": "BtxOWvFlKzgE"
      },
      "source": [
        "## Clean up the data\n",
        "Did you notice anything unusual about the \"house\" amounts? \n",
        "\n",
        "How about the handset price and income?"
      ]
    },
    {
      "cell_type": "code",
      "metadata": {
        "id": "7KXLvMcBK8Za"
      },
      "source": [
        "df_clean = df[(df['house'] > 0) & (df['income'] > 0) & (df['handset_price'] < 1000)]\n",
        "df_clean.describe()"
      ],
      "execution_count": null,
      "outputs": []
    },
    {
      "cell_type": "markdown",
      "metadata": {
        "id": "AuB0G9gJt7gn"
      },
      "source": [
        "# Add Derived Attribute\n",
        "\n",
        "Add a column with the income in K (thousands)"
      ]
    },
    {
      "cell_type": "code",
      "metadata": {
        "id": "inCqTVMDt6ex"
      },
      "source": [
        "df_clean['income_k'] = (df_clean['income']/1000).round(2)\n",
        "df_clean.head()"
      ],
      "execution_count": null,
      "outputs": []
    },
    {
      "cell_type": "markdown",
      "metadata": {
        "id": "uathUi6xfDPf"
      },
      "source": [
        "## Slice the data  \n",
        " What is average house price at the two levels of leave?\n",
        "\n",
        " Conclusion?  Stayers have substantially more expensive homes."
      ]
    },
    {
      "cell_type": "code",
      "metadata": {
        "id": "bC93rEgNfFNh"
      },
      "source": [
        "df_clean[['house','leave']].groupby('leave').mean().round(2) "
      ],
      "execution_count": null,
      "outputs": []
    }
  ]
}